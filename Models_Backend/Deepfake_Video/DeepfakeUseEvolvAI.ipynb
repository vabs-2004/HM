{
 "cells": [
  {
   "cell_type": "code",
   "execution_count": null,
   "id": "dbb9ba9f-a0f9-438b-a746-ee5b15f9650f",
   "metadata": {},
   "outputs": [],
   "source": [
    "import torch\n",
    "import torch.nn as nn\n",
    "from torchvision import transforms\n",
    "from PIL import Image\n",
    "import cv2\n",
    "import timm\n",
    "\n",
    "# Device configuration\n",
    "device = torch.device(\"cuda\" if torch.cuda.is_available() else \"cpu\")\n",
    "\n",
    "# Define image transformations (same as used during training)\n",
    "transform = transforms.Compose([\n",
    "    transforms.Resize((224, 224)),\n",
    "    transforms.ToTensor(),\n",
    "    transforms.Normalize(mean=[0.485, 0.456, 0.406], std=[0.229, 0.224, 0.225])\n",
    "])\n",
    "\n",
    "# Load the trained model\n",
    "model = timm.create_model('vit_base_patch16_224', pretrained=False, num_classes=2)\n",
    "# Load the trained model with weights_only=True for security\n",
    "model.load_state_dict(torch.load('best_vit_model.pth', weights_only=True))\n",
    "model.to(device)\n",
    "model.eval()\n",
    "\n",
    "# Function to process the video and classify each frame\n",
    "def predict_video(video_path, model, transform, device):\n",
    "    cap = cv2.VideoCapture(video_path)\n",
    "    frame_count = 0\n",
    "    real_count = 0\n",
    "    manipulated_count = 0\n",
    "\n",
    "    while cap.isOpened():\n",
    "        ret, frame = cap.read()\n",
    "        if not ret:\n",
    "            break\n",
    "        \n",
    "        frame_count += 1\n",
    "\n",
    "        # Convert frame to PIL Image and apply transformations\n",
    "        image = Image.fromarray(cv2.cvtColor(frame, cv2.COLOR_BGR2RGB))\n",
    "        image = transform(image).unsqueeze(0).to(device)  # Add batch dimension\n",
    "\n",
    "        # Make prediction\n",
    "        with torch.no_grad():\n",
    "            outputs = model(image)\n",
    "            _, predicted = torch.max(outputs, 1)\n",
    "        \n",
    "        if predicted.item() == 0:\n",
    "            real_count += 1\n",
    "        else:\n",
    "            manipulated_count += 1\n",
    "\n",
    "    cap.release()\n",
    "\n",
    "    # Final decision based on majority vote across all frames\n",
    "    if real_count > manipulated_count:\n",
    "        print(f\"Result: Real video ({real_count} real frames, {manipulated_count} manipulated frames)\")\n",
    "        return \"Real\"\n",
    "    else:\n",
    "        print(f\"Result: Manipulated video ({real_count} real frames, {manipulated_count} manipulated frames)\")\n",
    "        return \"Manipulated\""
   ]
  },
  {
   "cell_type": "code",
   "execution_count": 2,
   "id": "3b7572ab-295b-4ac4-8a43-a519e5da524f",
   "metadata": {},
   "outputs": [
    {
     "name": "stderr",
     "output_type": "stream",
     "text": [
      "C:\\Users\\vaibh\\anaconda3\\Lib\\site-packages\\timm\\models\\vision_transformer.py:93: UserWarning: 1Torch was not compiled with flash attention. (Triggered internally at C:\\actions-runner\\_work\\pytorch\\pytorch\\builder\\windows\\pytorch\\aten\\src\\ATen\\native\\transformers\\cuda\\sdp_utils.cpp:555.)\n",
      "  x = F.scaled_dot_product_attention(\n"
     ]
    },
    {
     "name": "stdout",
     "output_type": "stream",
     "text": [
      "Result: Real video (177 real frames, 128 manipulated frames)\n"
     ]
    }
   ],
   "source": [
    "# Test the video\n",
    "video_path = \"C:/Users/vaibh/Deepfake/DFD_original sequences/01__exit_phone_room.mp4\"\n",
    "result = predict_video(video_path, model, transform, device)"
   ]
  },
  {
   "cell_type": "code",
   "execution_count": 3,
   "id": "ddf99418-ee32-43e0-900c-cee98fb89cdf",
   "metadata": {},
   "outputs": [
    {
     "name": "stdout",
     "output_type": "stream",
     "text": [
      "Result: Manipulated video (7 real frames, 1222 manipulated frames)\n"
     ]
    }
   ],
   "source": [
    "video_path = \"C:/Users/vaibh/Downloads/Stallone alone by @ctrlshiftface Voice over by @iamjoegaudet Follow @deepfakevideos the number one place to find the best deepfakes.mp4\"\n",
    "result = predict_video(video_path, model, transform, device)\n"
   ]
  },
  {
   "cell_type": "code",
   "execution_count": 4,
   "id": "13a1a9b5-4cfa-4c08-a520-2b4b6775a755",
   "metadata": {},
   "outputs": [
    {
     "name": "stdout",
     "output_type": "stream",
     "text": [
      "Result: Manipulated video (0 real frames, 1410 manipulated frames)\n"
     ]
    }
   ],
   "source": [
    "video_path = \"C:/Users/vaibh/Downloads/Mistaken Identity. Samuel L Jackson or Morgan Freeman taken for Laurence Fishburne. Deepfake video by @zach4thlife follow @deepfakevideos the number one place for the best deepfakes.mp4\"\n",
    "result = predict_video(video_path, model , transform, device)"
   ]
  },
  {
   "cell_type": "code",
   "execution_count": null,
   "id": "ea57f2f0-c38f-48ca-86bd-ec43b489a5cb",
   "metadata": {},
   "outputs": [],
   "source": []
  },
  {
   "cell_type": "code",
   "execution_count": null,
   "id": "5ba791e0-f3e7-49b9-a5fc-874a5ee26af8",
   "metadata": {},
   "outputs": [],
   "source": []
  }
 ],
 "metadata": {
  "kernelspec": {
   "display_name": "Python 3 (ipykernel)",
   "language": "python",
   "name": "python3"
  },
  "language_info": {
   "codemirror_mode": {
    "name": "ipython",
    "version": 3
   },
   "file_extension": ".py",
   "mimetype": "text/x-python",
   "name": "python",
   "nbconvert_exporter": "python",
   "pygments_lexer": "ipython3",
   "version": "3.12.4"
  }
 },
 "nbformat": 4,
 "nbformat_minor": 5
}
